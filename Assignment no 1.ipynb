{
 "cells": [
  {
   "cell_type": "code",
   "execution_count": 42,
   "metadata": {},
   "outputs": [
    {
     "name": "stdout",
     "output_type": "stream",
     "text": [
      "Twinkle, twinkle, little star,\n",
      "      How I wonder what you are!\n",
      "             Up above the world so high,\n",
      "             Like a diamond in the sky.\n",
      "Twinkle, twinkle, little star,\n",
      "      How I wonder what you are!\n"
     ]
    }
   ],
   "source": [
    "#Task 1 \"Specific format String\"\n",
    "print(\"Twinkle, twinkle, little star,\" + \"\\n      \" + \"How I wonder what you are!\"  + \"\\n             Up above the world so high,\" + \"\\n             Like a diamond in the sky.\" + \"\\nTwinkle, twinkle, little star,\" + \"\\n      \" + \"How I wonder what you are!\")\n",
    "\n"
   ]
  },
  {
   "cell_type": "code",
   "execution_count": 2,
   "metadata": {},
   "outputs": [
    {
     "name": "stdout",
     "output_type": "stream",
     "text": [
      "Python Version is 3.7.4 (default, Aug  9 2019, 18:34:13) [MSC v.1915 64 bit (AMD64)]\n"
     ]
    }
   ],
   "source": [
    "#Task 2 \"Determining Version of python\"\n",
    "import sys\n",
    "\n",
    "print(\"Python Version is \" + sys.version)"
   ]
  },
  {
   "cell_type": "code",
   "execution_count": 44,
   "metadata": {},
   "outputs": [
    {
     "name": "stdout",
     "output_type": "stream",
     "text": [
      "Current Date Time \n",
      "2019-10-31 10:42:26.413733\n",
      "Current Date  \n",
      "2019-10-31\n",
      "Current Time  \n",
      "10:42:26.413733\n"
     ]
    }
   ],
   "source": [
    "#Task 3 \"Current date and time\"\n",
    "from datetime import datetime\n",
    "print(\"Current Date Time \")\n",
    "print(datetime.now())\n",
    "print(\"Current Date  \")\n",
    "print(datetime.date(datetime.now()))\n",
    "print(\"Current Time  \")\n",
    "print(datetime.time(datetime.now()))\n"
   ]
  },
  {
   "cell_type": "code",
   "execution_count": null,
   "metadata": {},
   "outputs": [],
   "source": [
    "# Task no 4:\n",
    "# Area of circle = πr**2\n",
    "pi = 3.142\n",
    "radius = int(input(\"Enter radius of circle \"))\n",
    "area = pi * (radius ** 2)\n",
    "print(\"Area of circle \" + str(area))"
   ]
  },
  {
   "cell_type": "code",
   "execution_count": 3,
   "metadata": {},
   "outputs": [
    {
     "name": "stdout",
     "output_type": "stream",
     "text": [
      "Enter Your First Name Muhammad\n",
      "Enter Your Last Name Arsalan\n",
      "Arsalan Muhammad\n"
     ]
    }
   ],
   "source": [
    "#Task no 5: \"Name in reverse order\"\n",
    "\n",
    "Name = input(\"Enter Your First Name \")\n",
    "Name1 = input(\"Enter Your Last Name \")\n",
    "Reverse = print(Name1 +\" \"+ Name)"
   ]
  },
  {
   "cell_type": "code",
   "execution_count": 4,
   "metadata": {},
   "outputs": [
    {
     "name": "stdout",
     "output_type": "stream",
     "text": [
      "Enter 1st Number 5\n",
      "Enter 2nd Number 9999\n",
      "Result of addition is 10004\n"
     ]
    }
   ],
   "source": [
    "#task mo 6 \"Addition of two numbers\"\n",
    "a = int(input(\"Enter 1st Number \"))\n",
    "b = int(input(\"Enter 2nd Number \"))\n",
    "c = a + b\n",
    "print(\"Result of addition is \"+str(c))"
   ]
  },
  {
   "cell_type": "code",
   "execution_count": null,
   "metadata": {},
   "outputs": [],
   "source": []
  }
 ],
 "metadata": {
  "kernelspec": {
   "display_name": "Python 3",
   "language": "python",
   "name": "python3"
  },
  "language_info": {
   "codemirror_mode": {
    "name": "ipython",
    "version": 3
   },
   "file_extension": ".py",
   "mimetype": "text/x-python",
   "name": "python",
   "nbconvert_exporter": "python",
   "pygments_lexer": "ipython3",
   "version": "3.7.4"
  }
 },
 "nbformat": 4,
 "nbformat_minor": 2
}
