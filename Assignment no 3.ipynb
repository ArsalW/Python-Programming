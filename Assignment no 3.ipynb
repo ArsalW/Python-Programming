{
 "cells": [
  {
   "cell_type": "code",
   "execution_count": 13,
   "metadata": {},
   "outputs": [
    {
     "name": "stdout",
     "output_type": "stream",
     "text": [
      "Enter first value: 4\n",
      "Enter operator: **\n",
      "Enter second value: 3\n",
      "Final result:  64\n"
     ]
    }
   ],
   "source": [
    "# Task 1 \n",
    "## Calculator for performing addition, subtraction, multiplication, division and power.\n",
    "\n",
    "val1= int(input(\"Enter first value: \"))\n",
    "operator=input(\"Enter operator: \")\n",
    "val2= int(input(\"Enter second value: \"))\n",
    "if operator==\"+\":\n",
    "    res=val1+val2\n",
    "    print(\"Final result is: \",res)\n",
    "if operator==\"-\":\n",
    "    res=val1-val2\n",
    "    print(\"Final result is: \",res)\n",
    "if operator==\"*\":\n",
    "    res=val1*val2\n",
    "    print(\"Final result is: \",res)\n",
    "if operator==\"/\":\n",
    "    res=val1//val2\n",
    "    print(\"Final result is: \",res)\n",
    "if operator==\"**\":\n",
    "    res = val1 ** val2\n",
    "    print(\"Final result: \",res)"
   ]
  },
  {
   "cell_type": "code",
   "execution_count": 14,
   "metadata": {},
   "outputs": [
    {
     "name": "stdout",
     "output_type": "stream",
     "text": [
      "111 is Numeric\n",
      "2 is Numeric\n",
      "000 is Numeric\n"
     ]
    }
   ],
   "source": [
    "#Task 2\n",
    "## Program to check for numeric value using loop.\n",
    "\n",
    "ls = [\"a\",\"b\",\"c\",\"111\",\"2\",\"000\"]\n",
    "for e in ls:\n",
    "    if e.isnumeric():\n",
    "        print(f'{e} is Numeric')\n",
    "       "
   ]
  },
  {
   "cell_type": "code",
   "execution_count": 9,
   "metadata": {},
   "outputs": [
    {
     "name": "stdout",
     "output_type": "stream",
     "text": [
      "{'Key': ''}\n"
     ]
    }
   ],
   "source": [
    "#Task 3\n",
    "\n",
    "\n",
    "Dic = {}\n",
    "Dic [\"Key\"]=\"\"\n",
    "print(Dic)\n"
   ]
  },
  {
   "cell_type": "code",
   "execution_count": 15,
   "metadata": {},
   "outputs": [
    {
     "name": "stdout",
     "output_type": "stream",
     "text": [
      "The sum of all numeric values of Dictionary is = 1140\n"
     ]
    }
   ],
   "source": [
    "#Task 4\n",
    "\n",
    "student = {\n",
    "    \"Name\":\"Arsalan\",\n",
    "    \"Class\":\"BSCS 2A\",\n",
    "    \"sem1_marks\":\"200\", \n",
    "    \"sem2_marks\":\"250\", \n",
    "    \"sem3_marks\":\"300\", \n",
    "    \"sem4_marks\":\"390\"\n",
    "}\n",
    "sum = 0\n",
    "for i in student.values():\n",
    "    if i.isnumeric():\n",
    "        sum += int(i)\n",
    "        \n",
    "print(f'The sum of all numeric values of Dictionary is = {sum}')"
   ]
  },
  {
   "cell_type": "code",
   "execution_count": 5,
   "metadata": {},
   "outputs": [
    {
     "name": "stdout",
     "output_type": "stream",
     "text": [
      "Duplicate values are [2, 3, 6, 8, 9]\n",
      "Frequency of Duplication {1: 1, 2: 2, 3: 2, 4: 1, 5: 1, 6: 3, 7: 1, 8: 2, 9: 2}\n",
      "{1, 4, 5}\n"
     ]
    }
   ],
   "source": [
    "#Task 5\n",
    "\n",
    "checked = {}\n",
    "duplicate = []\n",
    "ls = [1,2,2,3,3,4,5,6,6,6,7,8,8,9,9]\n",
    "for i in ls:\n",
    "    if i not in checked:\n",
    "        checked[i] = 1\n",
    "    else:\n",
    "        if checked[i] == 1:\n",
    "            duplicate.append(i)\n",
    "        checked[i] +=1\n",
    "        \n",
    "print(f'Duplicate values are {duplicate}')\n",
    "print(f'Frequency of Duplication {checked}')\n",
    "\n",
    "l = [1,2,3,4,4,5,5,6,1]\n",
    "print(set([x for x in l if l.count(x) > 1]))"
   ]
  },
  {
   "cell_type": "code",
   "execution_count": 19,
   "metadata": {},
   "outputs": [],
   "source": [
    "#Task 6\n",
    "\n",
    "student = {\n",
    "    \"Name\":\"Arsalan\",\n",
    "    \"Class\":\"BSCS 2A\",\n",
    "    \"sem1_marks\":\"200\", \n",
    "    \"sem2_marks\":\"250\", \n",
    "    \"sem3_marks\":\"300\", \n",
    "    \"sem4_marks\":\"390\"\n",
    "}\n",
    "key = \"name\"\n",
    "if key in student.keys():\n",
    "    print(f'The key \"{key}\" is already existed with a value \"{student[key]}\"')"
   ]
  },
  {
   "cell_type": "code",
   "execution_count": null,
   "metadata": {},
   "outputs": [],
   "source": []
  }
 ],
 "metadata": {
  "kernelspec": {
   "display_name": "Python 3",
   "language": "python",
   "name": "python3"
  },
  "language_info": {
   "codemirror_mode": {
    "name": "ipython",
    "version": 3
   },
   "file_extension": ".py",
   "mimetype": "text/x-python",
   "name": "python",
   "nbconvert_exporter": "python",
   "pygments_lexer": "ipython3",
   "version": "3.7.4"
  }
 },
 "nbformat": 4,
 "nbformat_minor": 2
}
