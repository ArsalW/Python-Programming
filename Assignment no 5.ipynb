{
 "cells": [
  {
   "cell_type": "code",
   "execution_count": 2,
   "metadata": {},
   "outputs": [
    {
     "name": "stdout",
     "output_type": "stream",
     "text": [
      "Input a number to compute the factorial : 5\n",
      "Factorial of number is  120\n"
     ]
    }
   ],
   "source": [
    "#Task 1\n",
    "\n",
    "def factorial(n):\n",
    "    if n == 0:\n",
    "        return 1\n",
    "    else:\n",
    "        return n * factorial(n-1)\n",
    "n=int(input(\"Input a number to compute the factorial : \"))\n",
    "\n",
    "print(\"Factorial of number is \",factorial(n))\n"
   ]
  },
  {
   "cell_type": "code",
   "execution_count": 3,
   "metadata": {},
   "outputs": [
    {
     "name": "stdout",
     "output_type": "stream",
     "text": [
      "No. of Upper case characters : 2 , No. of Lower case characters : 17\n"
     ]
    }
   ],
   "source": [
    "#Task 2\n",
    "\n",
    "def up_low(s):      \n",
    "    u = sum(1 for i in s if i.isupper())\n",
    "    l = sum(1 for i in s if i.islower())\n",
    "    \n",
    "    print( \"No. of Upper case characters : %s , No. of Lower case characters : %s\" % (u,l))\n",
    "up_low(\"Karachi is in Pakistan\")"
   ]
  },
  {
   "cell_type": "code",
   "execution_count": 4,
   "metadata": {},
   "outputs": [
    {
     "name": "stdout",
     "output_type": "stream",
     "text": [
      "Even Numbers are \n",
      "4 66 "
     ]
    }
   ],
   "source": [
    "#Task 3\n",
    "# list of numbers \n",
    "\n",
    "\n",
    "list = [5, 1, 4, 45, 66, 553] \n",
    "  \n",
    "# iterating each number in list \n",
    "print(\"Even Numbers are \")\n",
    "for num in list: \n",
    "      \n",
    "    # checking condition \n",
    "    if num % 2 == 0: \n",
    "        print(num, end = \" \") "
   ]
  },
  {
   "cell_type": "code",
   "execution_count": 5,
   "metadata": {},
   "outputs": [
    {
     "name": "stdout",
     "output_type": "stream",
     "text": [
      "Enter a word radar\n",
      "Yes it is palindrome\n"
     ]
    }
   ],
   "source": [
    "#Task 4\n",
    "#return reverse of a string \n",
    "\n",
    "def reverse(s): \n",
    "    return s[::-1] \n",
    "  \n",
    "def isPalindrome(s): \n",
    "    # Calling reverse function \n",
    "    rev = reverse(s) \n",
    "  \n",
    "    # Checking if both string are equal or not \n",
    "    if (s == rev): \n",
    "        return True\n",
    "    return False\n",
    "  \n",
    "  # Driver code \n",
    "s = input(\"Enter a word \")\n",
    "ans = isPalindrome(s) \n",
    "  \n",
    "if ans == 1: \n",
    "    print(\"Yes it is palindrome\") \n",
    "else: \n",
    "    print(\"No it is palindrome \") "
   ]
  },
  {
   "cell_type": "code",
   "execution_count": 6,
   "metadata": {},
   "outputs": [
    {
     "name": "stdout",
     "output_type": "stream",
     "text": [
      "Enter a Number: 5\n",
      "True\n"
     ]
    }
   ],
   "source": [
    "#Task 5\n",
    "\n",
    "def check_prime(n):\n",
    "    if (n==1):\n",
    "        return False\n",
    "    elif (n==2):\n",
    "        return True;\n",
    "    else:\n",
    "        for x in range(2,n):\n",
    "            if(n % x==0):\n",
    "                return False\n",
    "        return True\n",
    "    \n",
    "n = int(input(\"Enter a Number: \"))\n",
    "print(check_prime(n))"
   ]
  },
  {
   "cell_type": "code",
   "execution_count": 19,
   "metadata": {},
   "outputs": [
    {
     "name": "stdout",
     "output_type": "stream",
     "text": [
      "Enter Shopping Items: rice clothes vegetables chocolates fruits flour\n",
      "0 rice\n",
      "1 clothes\n",
      "2 vegetables\n",
      "3 chocolates\n",
      "4 fruits\n",
      "5 flour\n"
     ]
    }
   ],
   "source": [
    "#Task 6\n",
    "def BoughtItems(*ShoppingItems):\n",
    "    \"\"\"This function greets all\n",
    "   the person in the names tuple.\"\"\"\n",
    "\n",
    "   # names is a tuple with arguments\n",
    "    for e in range (0,6):\n",
    "        for name in ShoppingItems:\n",
    "            print(e,name[e])\n",
    "            \n",
    "     \n",
    "             \n",
    "UserInput = input(\"Enter Shopping Items: \")\n",
    "ShoppingItems = UserInput.split()\n",
    "\n",
    "BoughtItems(ShoppingItems)\n"
   ]
  },
  {
   "cell_type": "code",
   "execution_count": null,
   "metadata": {},
   "outputs": [],
   "source": []
  }
 ],
 "metadata": {
  "kernelspec": {
   "display_name": "Python 3",
   "language": "python",
   "name": "python3"
  },
  "language_info": {
   "codemirror_mode": {
    "name": "ipython",
    "version": 3
   },
   "file_extension": ".py",
   "mimetype": "text/x-python",
   "name": "python",
   "nbconvert_exporter": "python",
   "pygments_lexer": "ipython3",
   "version": "3.7.4"
  }
 },
 "nbformat": 4,
 "nbformat_minor": 2
}
