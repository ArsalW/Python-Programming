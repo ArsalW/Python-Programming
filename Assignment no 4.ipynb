{
 "cells": [
  {
   "cell_type": "code",
   "execution_count": 33,
   "metadata": {},
   "outputs": [
    {
     "name": "stdout",
     "output_type": "stream",
     "text": [
      "Muhammad\n",
      "Arsalan\n",
      "21\n",
      "Karachi\n",
      "Intermediate\n"
     ]
    }
   ],
   "source": [
    "person = {\n",
    "    'First_name': 'Muhammad',\n",
    "    'Last_name': 'Arsalan',\n",
    "    'Age': 21,\n",
    "    'City': 'Karachi',\n",
    "    \n",
    "    }\n",
    "\n",
    "person.update( {'Qualification' : 'Intermediate'} )\n",
    "print(person['First_name'])\n",
    "print(person['Last_name'])\n",
    "print(person['Age'])\n",
    "print(person['City'])\n",
    "print(person['Qualification'])\n",
    "person.update(Qualification = 'Bachelors' )\n",
    "#print(person['Qualification'])\n",
    "del (person['Qualification'])\n",
    "\n",
    "\n",
    "\n",
    "\n",
    "\n"
   ]
  },
  {
   "cell_type": "code",
   "execution_count": 42,
   "metadata": {},
   "outputs": [
    {
     "name": "stdout",
     "output_type": "stream",
     "text": [
      "\n",
      "Karachi is in Pakistan.\n",
      "  It has a population of about 15741406.\n",
      "  The Mazar-E-Quaid is the most famous.\n",
      "\n",
      "London is in United Kingdom.\n",
      "  It has a population of about 8900000.\n",
      "  The Big Ben is the most famous.\n",
      "\n",
      "Beijing is in China.\n",
      "  It has a population of about 21540000.\n",
      "  The Imperial Palace is the most famous.\n"
     ]
    }
   ],
   "source": [
    "cities = {\n",
    "    'Karachi': {\n",
    "        'country': 'pakistan',\n",
    "        'population': 15741406,\n",
    "        'attraction': 'Mazar-e-Quaid',\n",
    "        },\n",
    "    'London': {\n",
    "        'country': 'United Kingdom',\n",
    "        'population': 8900000,\n",
    "        'attraction': 'Big Ben',\n",
    "        },\n",
    "    'Beijing': {\n",
    "        'country': 'china',\n",
    "        'population': 21540000,\n",
    "        'attraction': 'Imperial palace',\n",
    "        }\n",
    "    }\n",
    "\n",
    "for city, city_info in cities.items():\n",
    "    country = city_info['country'].title()\n",
    "    population = city_info['population']\n",
    "    attraction = city_info['attraction'].title()\n",
    "\n",
    "    print(\"\\n\" + city.title() + \" is in \" + country + \".\")\n",
    "    print(\"  It has a population of about \" + str(population) + \".\")\n",
    "    print(\"  The \" + attraction + \" is the most famous.\")"
   ]
  },
  {
   "cell_type": "code",
   "execution_count": 1,
   "metadata": {},
   "outputs": [
    {
     "name": "stdout",
     "output_type": "stream",
     "text": [
      "How old are you?\n",
      "Enter 'quit' when you are finished. 55\n",
      "  Your ticket is $15.\n",
      "How old are you?\n",
      "Enter 'quit' when you are finished. quit\n"
     ]
    }
   ],
   "source": [
    "prompt = \"How old are you?\"\n",
    "prompt += \"\\nEnter 'quit' when you are finished. \"\n",
    "\n",
    "while True:\n",
    "    age = input(prompt)\n",
    "    if age == 'quit':\n",
    "        break\n",
    "    age = int(age)\n",
    "\n",
    "    if age < 3:\n",
    "        print(\"  You get in free!\")\n",
    "    elif age < 13:\n",
    "        print(\"  Your ticket is $10.\")\n",
    "    else:\n",
    "        print(\"  Your ticket is $15.\")"
   ]
  },
  {
   "cell_type": "code",
   "execution_count": 4,
   "metadata": {},
   "outputs": [
    {
     "name": "stdout",
     "output_type": "stream",
     "text": [
      "The Alchemist is one of my favorite books.\n"
     ]
    }
   ],
   "source": [
    "\n",
    "def favorite_book(title):\n",
    "    \"\"\"Display a message about favorite book.\"\"\"\n",
    "    print(title + \" is one of my favorite books.\")\n",
    "\n",
    "favorite_book('The Alchemist')"
   ]
  },
  {
   "cell_type": "code",
   "execution_count": null,
   "metadata": {},
   "outputs": [
    {
     "name": "stdout",
     "output_type": "stream",
     "text": [
      "Guess a number one through thirty: 15\n",
      "too low\n",
      "Guess a number one through thirty: 5\n",
      "too low\n"
     ]
    }
   ],
   "source": [
    "from random import randint\n",
    "it = randint(0, 30)\n",
    "guessesTaken = 0\n",
    "def guess():\n",
    "    while True:\n",
    "        x = int(input('Guess a number one through thirty: '))\n",
    "        if x == it:\n",
    "            print(\"You got it!\")\n",
    "            break\n",
    "        elif x > it:\n",
    "            print(\"too high\")\n",
    "        else:\n",
    "            print(\"too low\")\n",
    "guess()"
   ]
  },
  {
   "cell_type": "code",
   "execution_count": null,
   "metadata": {},
   "outputs": [
    {
     "name": "stdout",
     "output_type": "stream",
     "text": [
      "Guess a number (<30): 4\n",
      "Higher..\n",
      "Guess a number (<30): 5\n",
      "Higher..\n",
      "Guess a number (<30): 66\n",
      "Lower..\n",
      "come back later\n"
     ]
    }
   ],
   "source": [
    "import random\n",
    " \n",
    "secret_number = random.randint(1, 30)\n",
    "tries, guess = 0, 0\n",
    "while guess != secret_number:\n",
    "    guess = int(input(\"Guess a number (<30): \"))\n",
    "    if guess > secret_number:\n",
    "        print(\"Lower..\")\n",
    "    elif guess < secret_number:\n",
    "        print(\"Higher..\")\n",
    "    \n",
    "    tries += 1\n",
    "    if tries == 3:\n",
    "        print(\"come back later\")\n",
    " \n",
    "       "
   ]
  },
  {
   "cell_type": "code",
   "execution_count": null,
   "metadata": {},
   "outputs": [],
   "source": []
  },
  {
   "cell_type": "code",
   "execution_count": null,
   "metadata": {},
   "outputs": [],
   "source": []
  }
 ],
 "metadata": {
  "kernelspec": {
   "display_name": "Python 3",
   "language": "python",
   "name": "python3"
  },
  "language_info": {
   "codemirror_mode": {
    "name": "ipython",
    "version": 3
   },
   "file_extension": ".py",
   "mimetype": "text/x-python",
   "name": "python",
   "nbconvert_exporter": "python",
   "pygments_lexer": "ipython3",
   "version": "3.7.4"
  }
 },
 "nbformat": 4,
 "nbformat_minor": 2
}
